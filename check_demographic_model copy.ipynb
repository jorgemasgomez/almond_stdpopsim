{
 "cells": [
  {
   "cell_type": "code",
   "execution_count": 1,
   "metadata": {},
   "outputs": [
    {
     "name": "stdout",
     "output_type": "stream",
     "text": [
      "Almonds_5_indv\n"
     ]
    }
   ],
   "source": [
    "import stdpopsim\n",
    "import numpy as np\n",
    "\n",
    "species = stdpopsim.get_species(\"PruDul\")\n",
    "for x in species.demographic_models:\n",
    "    print(x.id)"
   ]
  },
  {
   "cell_type": "code",
   "execution_count": 2,
   "metadata": {},
   "outputs": [
    {
     "name": "stdout",
     "output_type": "stream",
     "text": [
      "1\n",
      "1\n",
      "['Prunus_dulcis']\n"
     ]
    }
   ],
   "source": [
    "model = species.get_demographic_model(\"Almonds_5_indv\")\n",
    "print(model.num_populations)\n",
    "print(model.num_sampling_populations)\n",
    "print([pop.name for pop in model.populations])\n"
   ]
  },
  {
   "cell_type": "code",
   "execution_count": 3,
   "metadata": {},
   "outputs": [
    {
     "name": "stdout",
     "output_type": "stream",
     "text": [
      "mean recombination rate: 1.97e-08\n",
      "mean mutation rate: 1e-07\n",
      "model mutation rate: 1e-07\n"
     ]
    }
   ],
   "source": [
    "contig = species.get_contig(\"Test\")\n",
    "print(\"mean recombination rate:\", f\"{contig.recombination_map.mean_rate:.3}\")\n",
    "print(\"mean mutation rate:\", contig.mutation_rate)\n",
    "print(\"model mutation rate:\", model.mutation_rate)"
   ]
  },
  {
   "cell_type": "code",
   "execution_count": 4,
   "metadata": {},
   "outputs": [
    {
     "name": "stdout",
     "output_type": "stream",
     "text": [
      "1926\n"
     ]
    }
   ],
   "source": [
    "samples = {\"Prunus_dulcis\": 20}\n",
    "engine = stdpopsim.get_engine(\"msprime\")\n",
    "ts = engine.simulate(model, contig, samples)\n",
    "print(ts.num_sites)"
   ]
  },
  {
   "cell_type": "code",
   "execution_count": 5,
   "metadata": {},
   "outputs": [
    {
     "name": "stdout",
     "output_type": "stream",
     "text": [
      "The tree sequence has 40 samples from population 0, which is Prunus_dulcis.\n"
     ]
    }
   ],
   "source": [
    "ts.num_samples\n",
    "# 20\n",
    "\n",
    "for k, pop in enumerate(ts.populations()):\n",
    "    print(\n",
    "        f\"The tree sequence has {len(ts.samples(k))} samples from \"\n",
    "        f\"population {k}, which is {pop.metadata['id']}.\"\n",
    "    )"
   ]
  },
  {
   "cell_type": "code",
   "execution_count": 13,
   "metadata": {},
   "outputs": [],
   "source": [
    "ts.genotype_matrix().shape\n",
    "test_gmatrix=ts.genotype_matrix()\n",
    "test_gmatrix=test_gmatrix.astype(int)\n",
    "np.savetxt('Chr_test_gmatrix.txt', test_gmatrix, delimiter='\\t', fmt='%d')"
   ]
  },
  {
   "cell_type": "code",
   "execution_count": 15,
   "metadata": {},
   "outputs": [],
   "source": [
    "np.savetxt('Chr_test_position.txt', ts.sites_position, delimiter='\\t')"
   ]
  }
 ],
 "metadata": {
  "kernelspec": {
   "display_name": "msprime-env",
   "language": "python",
   "name": "python3"
  },
  "language_info": {
   "codemirror_mode": {
    "name": "ipython",
    "version": 3
   },
   "file_extension": ".py",
   "mimetype": "text/x-python",
   "name": "python",
   "nbconvert_exporter": "python",
   "pygments_lexer": "ipython3",
   "version": "3.12.7"
  }
 },
 "nbformat": 4,
 "nbformat_minor": 2
}
