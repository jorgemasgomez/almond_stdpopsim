{
 "cells": [
  {
   "cell_type": "code",
   "execution_count": 1,
   "metadata": {},
   "outputs": [
    {
     "name": "stdout",
     "output_type": "stream",
     "text": [
      "Almonds_5_indv\n"
     ]
    }
   ],
   "source": [
    "import stdpopsim\n",
    "\n",
    "species = stdpopsim.get_species(\"PruDul\")\n",
    "for x in species.demographic_models:\n",
    "    print(x.id)"
   ]
  },
  {
   "cell_type": "code",
   "execution_count": 2,
   "metadata": {},
   "outputs": [
    {
     "name": "stdout",
     "output_type": "stream",
     "text": [
      "1\n",
      "1\n",
      "['Prunus_dulcis']\n"
     ]
    }
   ],
   "source": [
    "model = species.get_demographic_model(\"Almonds_5_indv\")\n",
    "print(model.num_populations)\n",
    "print(model.num_sampling_populations)\n",
    "print([pop.name for pop in model.populations])\n"
   ]
  },
  {
   "cell_type": "code",
   "execution_count": 6,
   "metadata": {},
   "outputs": [
    {
     "name": "stdout",
     "output_type": "stream",
     "text": [
      "mean recombination rate: 1.97e-06\n",
      "mean mutation rate: 1e-07\n",
      "model mutation rate: 1e-07\n"
     ]
    }
   ],
   "source": [
    "contig = species.get_contig(\"1\")\n",
    "print(\"mean recombination rate:\", f\"{contig.recombination_map.mean_rate:.3}\")\n",
    "print(\"mean mutation rate:\", contig.mutation_rate)\n",
    "print(\"model mutation rate:\", model.mutation_rate)"
   ]
  },
  {
   "cell_type": "code",
   "execution_count": 9,
   "metadata": {},
   "outputs": [
    {
     "ename": "KeyboardInterrupt",
     "evalue": "",
     "output_type": "error",
     "traceback": [
      "\u001b[1;31m---------------------------------------------------------------------------\u001b[0m",
      "\u001b[1;31mKeyboardInterrupt\u001b[0m                         Traceback (most recent call last)",
      "Cell \u001b[1;32mIn[9], line 3\u001b[0m\n\u001b[0;32m      1\u001b[0m samples \u001b[38;5;241m=\u001b[39m {\u001b[38;5;124m\"\u001b[39m\u001b[38;5;124mPrunus_dulcis\u001b[39m\u001b[38;5;124m\"\u001b[39m: \u001b[38;5;241m5\u001b[39m}\n\u001b[0;32m      2\u001b[0m engine \u001b[38;5;241m=\u001b[39m stdpopsim\u001b[38;5;241m.\u001b[39mget_engine(\u001b[38;5;124m\"\u001b[39m\u001b[38;5;124mmsprime\u001b[39m\u001b[38;5;124m\"\u001b[39m)\n\u001b[1;32m----> 3\u001b[0m ts \u001b[38;5;241m=\u001b[39m \u001b[43mengine\u001b[49m\u001b[38;5;241;43m.\u001b[39;49m\u001b[43msimulate\u001b[49m\u001b[43m(\u001b[49m\u001b[43mmodel\u001b[49m\u001b[43m,\u001b[49m\u001b[43m \u001b[49m\u001b[43mcontig\u001b[49m\u001b[43m,\u001b[49m\u001b[43m \u001b[49m\u001b[43msamples\u001b[49m\u001b[43m)\u001b[49m\n\u001b[0;32m      4\u001b[0m \u001b[38;5;28mprint\u001b[39m(ts\u001b[38;5;241m.\u001b[39mnum_sites)\n",
      "File \u001b[1;32mc:\\Users\\jorge\\Documents\\Documentos importantes de Jorge\\Edimburgo\\AlmondSim\\4_Genome_parameters_almond_demography\\almond_stdpopsim\\stdpopsim\\engines.py:286\u001b[0m, in \u001b[0;36m_MsprimeEngine.simulate\u001b[1;34m(self, demographic_model, contig, samples, seed, msprime_model, msprime_change_model, dry_run, **kwargs)\u001b[0m\n\u001b[0;32m    280\u001b[0m     gc_rate \u001b[38;5;241m=\u001b[39m contig\u001b[38;5;241m.\u001b[39mrecombination_map\u001b[38;5;241m.\u001b[39mmean_rate \u001b[38;5;241m*\u001b[39m gc_frac \u001b[38;5;241m/\u001b[39m (\u001b[38;5;241m1\u001b[39m \u001b[38;5;241m-\u001b[39m gc_frac)\n\u001b[0;32m    281\u001b[0m     recombination_map \u001b[38;5;241m=\u001b[39m msprime\u001b[38;5;241m.\u001b[39mRateMap(\n\u001b[0;32m    282\u001b[0m         position\u001b[38;5;241m=\u001b[39mrecombination_map\u001b[38;5;241m.\u001b[39mposition,\n\u001b[0;32m    283\u001b[0m         rate\u001b[38;5;241m=\u001b[39mrecombination_map\u001b[38;5;241m.\u001b[39mrate \u001b[38;5;241m*\u001b[39m (\u001b[38;5;241m1\u001b[39m \u001b[38;5;241m-\u001b[39m gc_frac),\n\u001b[0;32m    284\u001b[0m     )\n\u001b[1;32m--> 286\u001b[0m ts \u001b[38;5;241m=\u001b[39m \u001b[43mmsprime\u001b[49m\u001b[38;5;241;43m.\u001b[39;49m\u001b[43msim_ancestry\u001b[49m\u001b[43m(\u001b[49m\n\u001b[0;32m    287\u001b[0m \u001b[43m    \u001b[49m\u001b[43msamples\u001b[49m\u001b[38;5;241;43m=\u001b[39;49m\u001b[43msample_sets\u001b[49m\u001b[43m,\u001b[49m\n\u001b[0;32m    288\u001b[0m \u001b[43m    \u001b[49m\u001b[43mrecombination_rate\u001b[49m\u001b[38;5;241;43m=\u001b[39;49m\u001b[43mrecombination_map\u001b[49m\u001b[43m,\u001b[49m\n\u001b[0;32m    289\u001b[0m \u001b[43m    \u001b[49m\u001b[43mgene_conversion_rate\u001b[49m\u001b[38;5;241;43m=\u001b[39;49m\u001b[43mgc_rate\u001b[49m\u001b[43m,\u001b[49m\n\u001b[0;32m    290\u001b[0m \u001b[43m    \u001b[49m\u001b[43mgene_conversion_tract_length\u001b[49m\u001b[38;5;241;43m=\u001b[39;49m\u001b[43mcontig\u001b[49m\u001b[38;5;241;43m.\u001b[39;49m\u001b[43mgene_conversion_length\u001b[49m\u001b[43m,\u001b[49m\n\u001b[0;32m    291\u001b[0m \u001b[43m    \u001b[49m\u001b[43mdemography\u001b[49m\u001b[38;5;241;43m=\u001b[39;49m\u001b[43mdemographic_model\u001b[49m\u001b[38;5;241;43m.\u001b[39;49m\u001b[43mmodel\u001b[49m\u001b[43m,\u001b[49m\n\u001b[0;32m    292\u001b[0m \u001b[43m    \u001b[49m\u001b[43mploidy\u001b[49m\u001b[38;5;241;43m=\u001b[39;49m\u001b[43mcontig\u001b[49m\u001b[38;5;241;43m.\u001b[39;49m\u001b[43mploidy\u001b[49m\u001b[43m,\u001b[49m\n\u001b[0;32m    293\u001b[0m \u001b[43m    \u001b[49m\u001b[43mrandom_seed\u001b[49m\u001b[38;5;241;43m=\u001b[39;49m\u001b[43mseeds\u001b[49m\u001b[43m[\u001b[49m\u001b[38;5;241;43m0\u001b[39;49m\u001b[43m]\u001b[49m\u001b[43m,\u001b[49m\n\u001b[0;32m    294\u001b[0m \u001b[43m    \u001b[49m\u001b[43mmodel\u001b[49m\u001b[38;5;241;43m=\u001b[39;49m\u001b[43mmodel\u001b[49m\u001b[43m,\u001b[49m\n\u001b[0;32m    295\u001b[0m \u001b[43m    \u001b[49m\u001b[43mend_time\u001b[49m\u001b[38;5;241;43m=\u001b[39;49m\u001b[38;5;241;43m0\u001b[39;49m\u001b[43m \u001b[49m\u001b[38;5;28;43;01mif\u001b[39;49;00m\u001b[43m \u001b[49m\u001b[43mdry_run\u001b[49m\u001b[43m \u001b[49m\u001b[38;5;28;43;01melse\u001b[39;49;00m\u001b[43m \u001b[49m\u001b[38;5;28;43;01mNone\u001b[39;49;00m\u001b[43m,\u001b[49m\n\u001b[0;32m    296\u001b[0m \u001b[43m    \u001b[49m\u001b[38;5;241;43m*\u001b[39;49m\u001b[38;5;241;43m*\u001b[39;49m\u001b[43mkwargs\u001b[49m\u001b[43m,\u001b[49m\n\u001b[0;32m    297\u001b[0m \u001b[43m\u001b[49m\u001b[43m)\u001b[49m\n\u001b[0;32m    298\u001b[0m ts \u001b[38;5;241m=\u001b[39m msprime\u001b[38;5;241m.\u001b[39msim_mutations(\n\u001b[0;32m    299\u001b[0m     ts,\n\u001b[0;32m    300\u001b[0m     end_time\u001b[38;5;241m=\u001b[39m\u001b[38;5;241m0\u001b[39m \u001b[38;5;28;01mif\u001b[39;00m dry_run \u001b[38;5;28;01melse\u001b[39;00m \u001b[38;5;28;01mNone\u001b[39;00m,\n\u001b[0;32m    301\u001b[0m     random_seed\u001b[38;5;241m=\u001b[39mseeds[\u001b[38;5;241m1\u001b[39m],\n\u001b[0;32m    302\u001b[0m     rate\u001b[38;5;241m=\u001b[39mcontig\u001b[38;5;241m.\u001b[39mmutation_rate,\n\u001b[0;32m    303\u001b[0m )\n\u001b[0;32m    305\u001b[0m \u001b[38;5;28;01mif\u001b[39;00m contig\u001b[38;5;241m.\u001b[39minclusion_mask \u001b[38;5;129;01mis\u001b[39;00m \u001b[38;5;129;01mnot\u001b[39;00m \u001b[38;5;28;01mNone\u001b[39;00m:\n",
      "File \u001b[1;32mc:\\ProgramData\\miniconda3\\envs\\msprime-env\\Lib\\site-packages\\msprime\\ancestry.py:1311\u001b[0m, in \u001b[0;36msim_ancestry\u001b[1;34m(samples, demography, sequence_length, discrete_genome, recombination_rate, gene_conversion_rate, gene_conversion_tract_length, population_size, ploidy, model, initial_state, start_time, end_time, record_migrations, record_full_arg, additional_nodes, coalescing_segments_only, num_labels, random_seed, num_replicates, replicate_index, record_provenance)\u001b[0m\n\u001b[0;32m   1289\u001b[0m     provenance_dict \u001b[38;5;241m=\u001b[39m provenance\u001b[38;5;241m.\u001b[39mget_provenance_dict(parameters)\n\u001b[0;32m   1290\u001b[0m sim \u001b[38;5;241m=\u001b[39m _parse_sim_ancestry(\n\u001b[0;32m   1291\u001b[0m     samples\u001b[38;5;241m=\u001b[39msamples,\n\u001b[0;32m   1292\u001b[0m     sequence_length\u001b[38;5;241m=\u001b[39msequence_length,\n\u001b[1;32m   (...)\u001b[0m\n\u001b[0;32m   1309\u001b[0m     random_seed\u001b[38;5;241m=\u001b[39mrandom_seed,\n\u001b[0;32m   1310\u001b[0m )\n\u001b[1;32m-> 1311\u001b[0m \u001b[38;5;28;01mreturn\u001b[39;00m \u001b[43m_wrap_replicates\u001b[49m\u001b[43m(\u001b[49m\n\u001b[0;32m   1312\u001b[0m \u001b[43m    \u001b[49m\u001b[43msim\u001b[49m\u001b[43m,\u001b[49m\n\u001b[0;32m   1313\u001b[0m \u001b[43m    \u001b[49m\u001b[43mnum_replicates\u001b[49m\u001b[38;5;241;43m=\u001b[39;49m\u001b[43mnum_replicates\u001b[49m\u001b[43m,\u001b[49m\n\u001b[0;32m   1314\u001b[0m \u001b[43m    \u001b[49m\u001b[43mreplicate_index\u001b[49m\u001b[38;5;241;43m=\u001b[39;49m\u001b[43mreplicate_index\u001b[49m\u001b[43m,\u001b[49m\n\u001b[0;32m   1315\u001b[0m \u001b[43m    \u001b[49m\u001b[43mprovenance_dict\u001b[49m\u001b[38;5;241;43m=\u001b[39;49m\u001b[43mprovenance_dict\u001b[49m\u001b[43m,\u001b[49m\n\u001b[0;32m   1316\u001b[0m \u001b[43m\u001b[49m\u001b[43m)\u001b[49m\n",
      "File \u001b[1;32mc:\\ProgramData\\miniconda3\\envs\\msprime-env\\Lib\\site-packages\\msprime\\ancestry.py:681\u001b[0m, in \u001b[0;36m_wrap_replicates\u001b[1;34m(simulator, num_replicates, replicate_index, provenance_dict, mutation_rate)\u001b[0m\n\u001b[0;32m    675\u001b[0m iterator \u001b[38;5;241m=\u001b[39m simulator\u001b[38;5;241m.\u001b[39mrun_replicates(\n\u001b[0;32m    676\u001b[0m     num_replicates,\n\u001b[0;32m    677\u001b[0m     mutation_rate\u001b[38;5;241m=\u001b[39mmutation_rate,\n\u001b[0;32m    678\u001b[0m     provenance_dict\u001b[38;5;241m=\u001b[39mprovenance_dict,\n\u001b[0;32m    679\u001b[0m )\n\u001b[0;32m    680\u001b[0m \u001b[38;5;28;01mif\u001b[39;00m replicate_index \u001b[38;5;129;01mis\u001b[39;00m \u001b[38;5;129;01mnot\u001b[39;00m \u001b[38;5;28;01mNone\u001b[39;00m:\n\u001b[1;32m--> 681\u001b[0m     deque \u001b[38;5;241m=\u001b[39m \u001b[43mcollections\u001b[49m\u001b[38;5;241;43m.\u001b[39;49m\u001b[43mdeque\u001b[49m\u001b[43m(\u001b[49m\u001b[43miterator\u001b[49m\u001b[43m,\u001b[49m\u001b[43m \u001b[49m\u001b[43mmaxlen\u001b[49m\u001b[38;5;241;43m=\u001b[39;49m\u001b[38;5;241;43m1\u001b[39;49m\u001b[43m)\u001b[49m\n\u001b[0;32m    682\u001b[0m     \u001b[38;5;28;01mreturn\u001b[39;00m deque\u001b[38;5;241m.\u001b[39mpop()\n\u001b[0;32m    683\u001b[0m \u001b[38;5;28;01melse\u001b[39;00m:\n",
      "File \u001b[1;32mc:\\ProgramData\\miniconda3\\envs\\msprime-env\\Lib\\site-packages\\msprime\\ancestry.py:1606\u001b[0m, in \u001b[0;36mSimulator.run_replicates\u001b[1;34m(self, num_replicates, mutation_rate, provenance_dict)\u001b[0m\n\u001b[0;32m   1604\u001b[0m \u001b[38;5;28;01mfor\u001b[39;00m replicate_index \u001b[38;5;129;01min\u001b[39;00m \u001b[38;5;28mrange\u001b[39m(num_replicates):\n\u001b[0;32m   1605\u001b[0m     logger\u001b[38;5;241m.\u001b[39minfo(\u001b[38;5;124m\"\u001b[39m\u001b[38;5;124mStarting replicate \u001b[39m\u001b[38;5;132;01m%d\u001b[39;00m\u001b[38;5;124m\"\u001b[39m, replicate_index)\n\u001b[1;32m-> 1606\u001b[0m     \u001b[38;5;28;43mself\u001b[39;49m\u001b[38;5;241;43m.\u001b[39;49m\u001b[43mrun\u001b[49m\u001b[43m(\u001b[49m\u001b[43m)\u001b[49m\n\u001b[0;32m   1607\u001b[0m     \u001b[38;5;28;01mif\u001b[39;00m mutation_rate \u001b[38;5;129;01mis\u001b[39;00m \u001b[38;5;129;01mnot\u001b[39;00m \u001b[38;5;28;01mNone\u001b[39;00m:\n\u001b[0;32m   1608\u001b[0m         \u001b[38;5;66;03m# This is only called from simulate() or the ms interface,\u001b[39;00m\n\u001b[0;32m   1609\u001b[0m         \u001b[38;5;66;03m# so does not need any further parameters.\u001b[39;00m\n\u001b[0;32m   1610\u001b[0m         mutations\u001b[38;5;241m.\u001b[39m_simple_mutate(\n\u001b[0;32m   1611\u001b[0m             tables\u001b[38;5;241m=\u001b[39m\u001b[38;5;28mself\u001b[39m\u001b[38;5;241m.\u001b[39mtables,\n\u001b[0;32m   1612\u001b[0m             random_generator\u001b[38;5;241m=\u001b[39m\u001b[38;5;28mself\u001b[39m\u001b[38;5;241m.\u001b[39mrandom_generator,\n\u001b[0;32m   1613\u001b[0m             sequence_length\u001b[38;5;241m=\u001b[39m\u001b[38;5;28mself\u001b[39m\u001b[38;5;241m.\u001b[39msequence_length,\n\u001b[0;32m   1614\u001b[0m             rate\u001b[38;5;241m=\u001b[39mmutation_rate,\n\u001b[0;32m   1615\u001b[0m         )\n",
      "File \u001b[1;32mc:\\ProgramData\\miniconda3\\envs\\msprime-env\\Lib\\site-packages\\msprime\\ancestry.py:1571\u001b[0m, in \u001b[0;36mSimulator.run\u001b[1;34m(self, event_chunk, debug_func)\u001b[0m\n\u001b[0;32m   1569\u001b[0m     \u001b[38;5;28;01mraise\u001b[39;00m \u001b[38;5;167;01mValueError\u001b[39;00m(\u001b[38;5;124m\"\u001b[39m\u001b[38;5;124mModel durations must be >= 0\u001b[39m\u001b[38;5;124m\"\u001b[39m)\n\u001b[0;32m   1570\u001b[0m end_time \u001b[38;5;241m=\u001b[39m \u001b[38;5;28mmin\u001b[39m(\u001b[38;5;28mself\u001b[39m\u001b[38;5;241m.\u001b[39mtime \u001b[38;5;241m+\u001b[39m model_duration, \u001b[38;5;28mself\u001b[39m\u001b[38;5;241m.\u001b[39mend_time)\n\u001b[1;32m-> 1571\u001b[0m exit_reason \u001b[38;5;241m=\u001b[39m \u001b[38;5;28;43mself\u001b[39;49m\u001b[38;5;241;43m.\u001b[39;49m\u001b[43m_run_until\u001b[49m\u001b[43m(\u001b[49m\u001b[43mend_time\u001b[49m\u001b[43m,\u001b[49m\u001b[43m \u001b[49m\u001b[43mevent_chunk\u001b[49m\u001b[43m,\u001b[49m\u001b[43m \u001b[49m\u001b[43mdebug_func\u001b[49m\u001b[43m)\u001b[49m\n\u001b[0;32m   1572\u001b[0m \u001b[38;5;28;01mif\u001b[39;00m exit_reason \u001b[38;5;241m==\u001b[39m ExitReason\u001b[38;5;241m.\u001b[39mCOALESCENCE \u001b[38;5;129;01mor\u001b[39;00m \u001b[38;5;28mself\u001b[39m\u001b[38;5;241m.\u001b[39mtime \u001b[38;5;241m==\u001b[39m \u001b[38;5;28mself\u001b[39m\u001b[38;5;241m.\u001b[39mend_time:\n\u001b[0;32m   1573\u001b[0m     logger\u001b[38;5;241m.\u001b[39mdebug(\u001b[38;5;124m\"\u001b[39m\u001b[38;5;124mSkipping remaining \u001b[39m\u001b[38;5;132;01m%d\u001b[39;00m\u001b[38;5;124m models\u001b[39m\u001b[38;5;124m\"\u001b[39m, \u001b[38;5;28mlen\u001b[39m(\u001b[38;5;28mself\u001b[39m\u001b[38;5;241m.\u001b[39mmodels) \u001b[38;5;241m-\u001b[39m j \u001b[38;5;241m-\u001b[39m \u001b[38;5;241m1\u001b[39m)\n",
      "File \u001b[1;32mc:\\ProgramData\\miniconda3\\envs\\msprime-env\\Lib\\site-packages\\msprime\\ancestry.py:1536\u001b[0m, in \u001b[0;36mSimulator._run_until\u001b[1;34m(self, end_time, event_chunk, debug_func)\u001b[0m\n\u001b[0;32m   1534\u001b[0m ret \u001b[38;5;241m=\u001b[39m ExitReason\u001b[38;5;241m.\u001b[39mMAX_EVENTS\n\u001b[0;32m   1535\u001b[0m \u001b[38;5;28;01mwhile\u001b[39;00m ret \u001b[38;5;241m==\u001b[39m ExitReason\u001b[38;5;241m.\u001b[39mMAX_EVENTS:\n\u001b[1;32m-> 1536\u001b[0m     ret \u001b[38;5;241m=\u001b[39m ExitReason(\u001b[38;5;28;43msuper\u001b[39;49m\u001b[43m(\u001b[49m\u001b[43m)\u001b[49m\u001b[38;5;241;43m.\u001b[39;49m\u001b[43mrun\u001b[49m\u001b[43m(\u001b[49m\u001b[43mend_time\u001b[49m\u001b[43m,\u001b[49m\u001b[43m \u001b[49m\u001b[43mevent_chunk\u001b[49m\u001b[43m)\u001b[49m)\n\u001b[0;32m   1537\u001b[0m     \u001b[38;5;28;01mif\u001b[39;00m \u001b[38;5;28mself\u001b[39m\u001b[38;5;241m.\u001b[39mtime \u001b[38;5;241m>\u001b[39m end_time:\n\u001b[0;32m   1538\u001b[0m         \u001b[38;5;66;03m# Currently the Pedigree and Sweeps models are \"non-reentrant\"\u001b[39;00m\n\u001b[0;32m   1539\u001b[0m         \u001b[38;5;66;03m# We can change this to an assertion once these have been fixed.\u001b[39;00m\n\u001b[0;32m   1540\u001b[0m         \u001b[38;5;28;01mraise\u001b[39;00m \u001b[38;5;167;01mRuntimeError\u001b[39;00m(\n\u001b[0;32m   1541\u001b[0m             \u001b[38;5;124mf\u001b[39m\u001b[38;5;124m\"\u001b[39m\u001b[38;5;124mModel \u001b[39m\u001b[38;5;132;01m{\u001b[39;00m\u001b[38;5;28mself\u001b[39m\u001b[38;5;241m.\u001b[39mmodel[\u001b[38;5;124m'\u001b[39m\u001b[38;5;124mname\u001b[39m\u001b[38;5;124m'\u001b[39m]\u001b[38;5;132;01m}\u001b[39;00m\u001b[38;5;124m does not support interruption. \u001b[39m\u001b[38;5;124m\"\u001b[39m\n\u001b[0;32m   1542\u001b[0m             \u001b[38;5;124m\"\u001b[39m\u001b[38;5;124mPlease open an issue on GitHub\u001b[39m\u001b[38;5;124m\"\u001b[39m\n\u001b[0;32m   1543\u001b[0m         )\n",
      "\u001b[1;31mKeyboardInterrupt\u001b[0m: "
     ]
    }
   ],
   "source": [
    "samples = {\"Prunus_dulcis\": 5}\n",
    "engine = stdpopsim.get_engine(\"msprime\")\n",
    "ts = engine.simulate(model, contig, samples)\n",
    "print(ts.num_sites)"
   ]
  },
  {
   "cell_type": "code",
   "execution_count": null,
   "metadata": {},
   "outputs": [],
   "source": [
    "ts.num_samples\n",
    "# 20\n",
    "\n",
    "for k, pop in enumerate(ts.populations()):\n",
    "    print(\n",
    "        f\"The tree sequence has {len(ts.samples(k))} samples from \"\n",
    "        f\"population {k}, which is {pop.metadata['id']}.\"\n",
    "    )"
   ]
  },
  {
   "cell_type": "code",
   "execution_count": null,
   "metadata": {},
   "outputs": [],
   "source": [
    "with open(\"Chr1.vcf\", \"w\") as vcf_file:\n",
    "    ts.write_vcf(vcf_file, contig_id=\"1\")"
   ]
  },
  {
   "cell_type": "code",
   "execution_count": null,
   "metadata": {},
   "outputs": [],
   "source": []
  }
 ],
 "metadata": {
  "kernelspec": {
   "display_name": "msprime-env",
   "language": "python",
   "name": "python3"
  },
  "language_info": {
   "codemirror_mode": {
    "name": "ipython",
    "version": 3
   },
   "file_extension": ".py",
   "mimetype": "text/x-python",
   "name": "python",
   "nbconvert_exporter": "python",
   "pygments_lexer": "ipython3",
   "version": "3.12.7"
  }
 },
 "nbformat": 4,
 "nbformat_minor": 2
}
